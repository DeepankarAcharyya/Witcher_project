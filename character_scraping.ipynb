{
 "cells": [
  {
   "cell_type": "code",
   "execution_count": 2,
   "metadata": {},
   "outputs": [],
   "source": [
    "import pandas as pd\n",
    "import time\n",
    "from selenium import webdriver\n",
    "from webdriver_manager.chrome import ChromeDriverManager"
   ]
  },
  {
   "cell_type": "code",
   "execution_count": 10,
   "id": "719d867f",
   "metadata": {},
   "outputs": [
    {
     "name": "stdout",
     "output_type": "stream",
     "text": [
      "\n"
     ]
    },
    {
     "name": "stderr",
     "output_type": "stream",
     "text": [
      "[WDM] - ====== WebDriver manager ======\n",
      "[WDM] - Current google-chrome version is 103.0.5060\n",
      "[WDM] - Get LATEST chromedriver version for 103.0.5060 google-chrome\n",
      "[WDM] - Driver [/home/victor/.wdm/drivers/chromedriver/linux64/103.0.5060.53/chromedriver] found in cache\n",
      "/tmp/ipykernel_27783/1503906442.py:1: DeprecationWarning: executable_path has been deprecated, please pass in a Service object\n",
      "  driver = webdriver.Chrome(ChromeDriverManager().install())\n"
     ]
    }
   ],
   "source": [
    "driver = webdriver.Chrome(ChromeDriverManager().install())"
   ]
  },
  {
   "cell_type": "code",
   "execution_count": 11,
   "id": "2fd6e78c",
   "metadata": {},
   "outputs": [],
   "source": [
    "page_url = \"https://witcher.fandom.com/wiki/Category:Characters_in_the_stories\"\n",
    "driver.get(page_url)"
   ]
  },
  {
   "cell_type": "code",
   "execution_count": null,
   "id": "c249fe7e",
   "metadata": {},
   "outputs": [],
   "source": [
    "from selenium.webdriver.common.by import By\n",
    "\n",
    "driver.find_element(By.XPATH,'//div[text()=\"ACCEPT\"]').click()"
   ]
  },
  {
   "cell_type": "markdown",
   "id": "5f3c6584",
   "metadata": {},
   "source": [
    "## Find Books"
   ]
  },
  {
   "cell_type": "code",
   "execution_count": 23,
   "id": "4aaec852",
   "metadata": {},
   "outputs": [],
   "source": [
    "book_categories = driver.find_elements(By.CLASS_NAME,'category-page__member-link')"
   ]
  },
  {
   "cell_type": "code",
   "execution_count": 24,
   "id": "73f8cd8e",
   "metadata": {},
   "outputs": [
    {
     "data": {
      "text/plain": [
       "[<selenium.webdriver.remote.webelement.WebElement (session=\"75e8441e175292a67d6b8e3b051d904c\", element=\"47e023f0-18cf-46dc-ba92-2a0938942d83\")>,\n",
       " <selenium.webdriver.remote.webelement.WebElement (session=\"75e8441e175292a67d6b8e3b051d904c\", element=\"ded1d4c5-f2eb-4773-a37c-75e59b5f4d82\")>,\n",
       " <selenium.webdriver.remote.webelement.WebElement (session=\"75e8441e175292a67d6b8e3b051d904c\", element=\"b5eb992f-3144-407e-bc31-698895b8bad8\")>,\n",
       " <selenium.webdriver.remote.webelement.WebElement (session=\"75e8441e175292a67d6b8e3b051d904c\", element=\"7313e04c-3436-416d-bfba-50ebcda47d48\")>,\n",
       " <selenium.webdriver.remote.webelement.WebElement (session=\"75e8441e175292a67d6b8e3b051d904c\", element=\"0f2d6cb9-ed3e-4a6e-99aa-143eb77979c7\")>,\n",
       " <selenium.webdriver.remote.webelement.WebElement (session=\"75e8441e175292a67d6b8e3b051d904c\", element=\"c93cebb2-5595-4317-aae2-dba3f83b140a\")>,\n",
       " <selenium.webdriver.remote.webelement.WebElement (session=\"75e8441e175292a67d6b8e3b051d904c\", element=\"07a927f8-97ab-457b-b2b7-69d458b764e2\")>,\n",
       " <selenium.webdriver.remote.webelement.WebElement (session=\"75e8441e175292a67d6b8e3b051d904c\", element=\"29df69a3-6c5b-44c9-91f7-e745b26b6b9e\")>,\n",
       " <selenium.webdriver.remote.webelement.WebElement (session=\"75e8441e175292a67d6b8e3b051d904c\", element=\"ef7d14b2-3191-4eb3-8110-d59eebadd28f\")>,\n",
       " <selenium.webdriver.remote.webelement.WebElement (session=\"75e8441e175292a67d6b8e3b051d904c\", element=\"98904bff-1829-4e29-b502-305fd3c064f4\")>,\n",
       " <selenium.webdriver.remote.webelement.WebElement (session=\"75e8441e175292a67d6b8e3b051d904c\", element=\"1c27a810-5b44-4439-9ea9-157ec94fd705\")>,\n",
       " <selenium.webdriver.remote.webelement.WebElement (session=\"75e8441e175292a67d6b8e3b051d904c\", element=\"43fe0d2f-8b11-455c-83d9-c51dba58183b\")>]"
      ]
     },
     "execution_count": 24,
     "metadata": {},
     "output_type": "execute_result"
    }
   ],
   "source": [
    "book_categories"
   ]
  },
  {
   "cell_type": "code",
   "execution_count": 26,
   "id": "5096926d",
   "metadata": {},
   "outputs": [
    {
     "name": "stdout",
     "output_type": "stream",
     "text": [
      "Category:Baptism of Fire characters\n",
      "https://witcher.fandom.com/wiki/Category:Baptism_of_Fire_characters\n"
     ]
    }
   ],
   "source": [
    "print(book_categories[0].text)\n",
    "print(book_categories[0].get_attribute('href'))"
   ]
  },
  {
   "cell_type": "code",
   "execution_count": 27,
   "id": "04389f4a",
   "metadata": {},
   "outputs": [
    {
     "name": "stdout",
     "output_type": "stream",
     "text": [
      "147\n"
     ]
    }
   ],
   "source": [
    "driver.get(book_categories[0].get_attribute('href'))\n",
    "character_elements = driver.find_elements(By.CLASS_NAME,'category-page__member-link')\n",
    "print(len(character_elements))"
   ]
  },
  {
   "cell_type": "code",
   "execution_count": 28,
   "id": "24143a5e",
   "metadata": {},
   "outputs": [
    {
     "data": {
      "text/plain": [
       "'Adalia'"
      ]
     },
     "execution_count": 28,
     "metadata": {},
     "output_type": "execute_result"
    }
   ],
   "source": [
    "character_elements[0].text"
   ]
  },
  {
   "cell_type": "markdown",
   "id": "57bde38e",
   "metadata": {},
   "source": [
    "## Full Code"
   ]
  },
  {
   "cell_type": "code",
   "execution_count": null,
   "id": "7c1b9dc0",
   "metadata": {},
   "outputs": [],
   "source": []
  },
  {
   "cell_type": "code",
   "execution_count": 9,
   "id": "5e5b585d",
   "metadata": {},
   "outputs": [],
   "source": [
    "driver.quit()"
   ]
  },
  {
   "cell_type": "code",
   "execution_count": null,
   "id": "a6305521",
   "metadata": {},
   "outputs": [],
   "source": []
  }
 ],
 "metadata": {
  "kernelspec": {
   "display_name": "Python 3.8.10 64-bit",
   "language": "python",
   "name": "python3"
  },
  "language_info": {
   "codemirror_mode": {
    "name": "ipython",
    "version": 3
   },
   "file_extension": ".py",
   "mimetype": "text/x-python",
   "name": "python",
   "nbconvert_exporter": "python",
   "pygments_lexer": "ipython3",
   "version": "3.8.10"
  },
  "vscode": {
   "interpreter": {
    "hash": "916dbcbb3f70747c44a77c7bcd40155683ae19c65e1c03b4aa3499c5328201f1"
   }
  }
 },
 "nbformat": 4,
 "nbformat_minor": 5
}
